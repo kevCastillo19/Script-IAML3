{
 "cells": [
  {
   "cell_type": "code",
   "execution_count": 1,
   "id": "6b2d15b3-b9d1-42cb-a63f-4c42d90f2d5f",
   "metadata": {},
   "outputs": [],
   "source": [
    "import pandas as pd\n",
    "from sklearn.preprocessing import MinMaxScaler, StandardScaler"
   ]
  },
  {
   "cell_type": "markdown",
   "id": "5c4ce5ec-0376-43e0-8d65-eea55e687be3",
   "metadata": {},
   "source": [
    "Carga un archivo CSV en un DataFrame"
   ]
  },
  {
   "cell_type": "code",
   "execution_count": 2,
   "id": "47dc0ebd-9299-4929-9837-2a1a466c50e1",
   "metadata": {},
   "outputs": [],
   "source": [
    "def cargar_datos(ruta_csv):\n",
    "    return pd.read_csv(ruta_csv)"
   ]
  },
  {
   "cell_type": "markdown",
   "id": "d9f41428-b1bf-4576-94e7-a8ae0fe70f35",
   "metadata": {},
   "source": [
    "Elimina duplicados y valores nulos"
   ]
  },
  {
   "cell_type": "code",
   "execution_count": 3,
   "id": "c02fddaf-f754-475d-b3ff-7d29e44f5ab8",
   "metadata": {},
   "outputs": [],
   "source": [
    "def limpiar_datos(df, columnas_criticas=None):\n",
    "    df = df.drop_duplicates()\n",
    "    if columnas_criticas:\n",
    "        df = df.dropna(subset=columnas_criticas)\n",
    "    else:\n",
    "        df = df.dropna()\n",
    "    return df.reset_index(drop=True)"
   ]
  },
  {
   "cell_type": "markdown",
   "id": "b0499990-0f2b-42ff-9a55-7a3a437cf9e4",
   "metadata": {},
   "source": [
    "Normaliza columnas numéricas con MinMax o StandardScaler"
   ]
  },
  {
   "cell_type": "code",
   "execution_count": 4,
   "id": "8355cdaf-9d24-4c32-97d6-4cce28bf2fbf",
   "metadata": {},
   "outputs": [],
   "source": [
    "def normalizar_datos(df, columnas_numericas, metodo='minmax'):\n",
    "    df_copy = df.copy()\n",
    "    scaler = MinMaxScaler() if metodo == 'minmax' else StandardScaler()\n",
    "    df_copy[columnas_numericas] = scaler.fit_transform(df_copy[columnas_numericas])\n",
    "    return df_copy"
   ]
  },
  {
   "cell_type": "markdown",
   "id": "478618be-64af-4428-af02-1eb6e8a1c189",
   "metadata": {},
   "source": [
    "Codifica columnas categóricas con one-hot encoding"
   ]
  },
  {
   "cell_type": "code",
   "execution_count": 5,
   "id": "579221bb-ac6f-46f8-8d6d-1849a4ef0848",
   "metadata": {},
   "outputs": [],
   "source": [
    "def codificar_categoricas(df, columnas_categoricas):\n",
    "    return pd.get_dummies(df, columns=columnas_categoricas, drop_first=True)"
   ]
  },
  {
   "cell_type": "markdown",
   "id": "c757742e-63f8-4605-8384-6102dfa95345",
   "metadata": {},
   "source": [
    "Aplica transformaciones adicionales"
   ]
  },
  {
   "cell_type": "code",
   "execution_count": 6,
   "id": "37aaed43-0c9b-450b-90cb-6b0438387133",
   "metadata": {},
   "outputs": [],
   "source": [
    "def transformar_datos(df):\n",
    "    if 'col1' in df.columns and 'col2' in df.columns:\n",
    "        df['columna_nueva'] = df['col1'] + df['col2']\n",
    "    return df"
   ]
  },
  {
   "cell_type": "markdown",
   "id": "6e7f32c0-9a83-406a-8e00-f2939cebf614",
   "metadata": {},
   "source": [
    "Ejecuta el pipeline de preparación de datos"
   ]
  },
  {
   "cell_type": "code",
   "execution_count": 7,
   "id": "5e3b8de1-99b5-43bb-821c-52aec0e820a3",
   "metadata": {},
   "outputs": [],
   "source": [
    "def pipeline_preparacion_datos(ruta_csv, columnas_numericas, columnas_categoricas, columnas_criticas=None, metodo_normalizacion='minmax'):\n",
    "    df = cargar_datos(ruta_csv)\n",
    "    df = limpiar_datos(df, columnas_criticas)\n",
    "    df = normalizar_datos(df, columnas_numericas, metodo_normalizacion)\n",
    "    df = codificar_categoricas(df, columnas_categoricas)\n",
    "    df = transformar_datos(df)\n",
    "    return df"
   ]
  },
  {
   "cell_type": "code",
   "execution_count": null,
   "id": "2a969799-b96e-4b2b-964a-4a1816e22c45",
   "metadata": {},
   "outputs": [],
   "source": []
  }
 ],
 "metadata": {
  "kernelspec": {
   "display_name": "Python 3 (ipykernel)",
   "language": "python",
   "name": "python3"
  },
  "language_info": {
   "codemirror_mode": {
    "name": "ipython",
    "version": 3
   },
   "file_extension": ".py",
   "mimetype": "text/x-python",
   "name": "python",
   "nbconvert_exporter": "python",
   "pygments_lexer": "ipython3",
   "version": "3.11.0"
  }
 },
 "nbformat": 4,
 "nbformat_minor": 5
}
